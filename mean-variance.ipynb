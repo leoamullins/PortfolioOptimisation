{
 "cells": [
  {
   "cell_type": "code",
   "execution_count": 99,
   "metadata": {},
   "outputs": [],
   "source": [
    "import pandas as pd\n",
    "import numpy as np\n",
    "from scipy.optimize import minimize, LinearConstraint, Bounds\n",
    "import yfinance as yf\n",
    "import matplotlib.pyplot as plt"
   ]
  },
  {
   "cell_type": "code",
   "execution_count": null,
   "metadata": {},
   "outputs": [],
   "source": []
  },
  {
   "cell_type": "code",
   "execution_count": 100,
   "metadata": {},
   "outputs": [
    {
     "name": "stderr",
     "output_type": "stream",
     "text": [
      "[*********************100%***********************]  10 of 10 completed\n"
     ]
    },
    {
     "data": {
      "text/html": [
       "<div>\n",
       "<style scoped>\n",
       "    .dataframe tbody tr th:only-of-type {\n",
       "        vertical-align: middle;\n",
       "    }\n",
       "\n",
       "    .dataframe tbody tr th {\n",
       "        vertical-align: top;\n",
       "    }\n",
       "\n",
       "    .dataframe thead th {\n",
       "        text-align: right;\n",
       "    }\n",
       "</style>\n",
       "<table border=\"1\" class=\"dataframe\">\n",
       "  <thead>\n",
       "    <tr style=\"text-align: right;\">\n",
       "      <th>Ticker</th>\n",
       "      <th>AAPL</th>\n",
       "      <th>AMZN</th>\n",
       "      <th>GOOGL</th>\n",
       "      <th>JPM</th>\n",
       "      <th>META</th>\n",
       "      <th>MSFT</th>\n",
       "      <th>NVDA</th>\n",
       "      <th>PG</th>\n",
       "      <th>V</th>\n",
       "      <th>XOM</th>\n",
       "    </tr>\n",
       "    <tr>\n",
       "      <th>Date</th>\n",
       "      <th></th>\n",
       "      <th></th>\n",
       "      <th></th>\n",
       "      <th></th>\n",
       "      <th></th>\n",
       "      <th></th>\n",
       "      <th></th>\n",
       "      <th></th>\n",
       "      <th></th>\n",
       "      <th></th>\n",
       "    </tr>\n",
       "  </thead>\n",
       "  <tbody>\n",
       "    <tr>\n",
       "      <th>2015-01-02</th>\n",
       "      <td>24.261045</td>\n",
       "      <td>15.4260</td>\n",
       "      <td>26.319651</td>\n",
       "      <td>46.948078</td>\n",
       "      <td>78.021973</td>\n",
       "      <td>39.998695</td>\n",
       "      <td>0.483066</td>\n",
       "      <td>66.983505</td>\n",
       "      <td>61.462467</td>\n",
       "      <td>58.967125</td>\n",
       "    </tr>\n",
       "    <tr>\n",
       "      <th>2015-01-05</th>\n",
       "      <td>23.577570</td>\n",
       "      <td>15.1095</td>\n",
       "      <td>25.818159</td>\n",
       "      <td>45.490578</td>\n",
       "      <td>76.768845</td>\n",
       "      <td>39.630878</td>\n",
       "      <td>0.474906</td>\n",
       "      <td>66.665024</td>\n",
       "      <td>60.105774</td>\n",
       "      <td>57.353676</td>\n",
       "    </tr>\n",
       "    <tr>\n",
       "      <th>2015-01-06</th>\n",
       "      <td>23.579796</td>\n",
       "      <td>14.7645</td>\n",
       "      <td>25.180983</td>\n",
       "      <td>44.311043</td>\n",
       "      <td>75.734512</td>\n",
       "      <td>39.049221</td>\n",
       "      <td>0.460508</td>\n",
       "      <td>66.361359</td>\n",
       "      <td>59.718456</td>\n",
       "      <td>57.048779</td>\n",
       "    </tr>\n",
       "    <tr>\n",
       "      <th>2015-01-07</th>\n",
       "      <td>23.910437</td>\n",
       "      <td>14.9210</td>\n",
       "      <td>25.106924</td>\n",
       "      <td>44.378670</td>\n",
       "      <td>75.734512</td>\n",
       "      <td>39.545334</td>\n",
       "      <td>0.459308</td>\n",
       "      <td>66.709450</td>\n",
       "      <td>60.518585</td>\n",
       "      <td>57.626835</td>\n",
       "    </tr>\n",
       "    <tr>\n",
       "      <th>2015-01-08</th>\n",
       "      <td>24.829128</td>\n",
       "      <td>15.0230</td>\n",
       "      <td>25.194401</td>\n",
       "      <td>45.370365</td>\n",
       "      <td>77.753441</td>\n",
       "      <td>40.708698</td>\n",
       "      <td>0.476586</td>\n",
       "      <td>67.472305</td>\n",
       "      <td>61.330288</td>\n",
       "      <td>58.586014</td>\n",
       "    </tr>\n",
       "  </tbody>\n",
       "</table>\n",
       "</div>"
      ],
      "text/plain": [
       "Ticker           AAPL     AMZN      GOOGL        JPM       META       MSFT  \\\n",
       "Date                                                                         \n",
       "2015-01-02  24.261045  15.4260  26.319651  46.948078  78.021973  39.998695   \n",
       "2015-01-05  23.577570  15.1095  25.818159  45.490578  76.768845  39.630878   \n",
       "2015-01-06  23.579796  14.7645  25.180983  44.311043  75.734512  39.049221   \n",
       "2015-01-07  23.910437  14.9210  25.106924  44.378670  75.734512  39.545334   \n",
       "2015-01-08  24.829128  15.0230  25.194401  45.370365  77.753441  40.708698   \n",
       "\n",
       "Ticker          NVDA         PG          V        XOM  \n",
       "Date                                                   \n",
       "2015-01-02  0.483066  66.983505  61.462467  58.967125  \n",
       "2015-01-05  0.474906  66.665024  60.105774  57.353676  \n",
       "2015-01-06  0.460508  66.361359  59.718456  57.048779  \n",
       "2015-01-07  0.459308  66.709450  60.518585  57.626835  \n",
       "2015-01-08  0.476586  67.472305  61.330288  58.586014  "
      ]
     },
     "execution_count": 100,
     "metadata": {},
     "output_type": "execute_result"
    }
   ],
   "source": [
    "tickers = [\"AAPL\", \"MSFT\", \"GOOGL\", \"AMZN\", \"META\", \"NVDA\", \"JPM\", \"XOM\", \"PG\", \"V\"]\n",
    "\n",
    "prices = yf.download(tickers, start = '2015-01-01', auto_adjust=False)['Adj Close']\n",
    "prices.head()\n"
   ]
  },
  {
   "cell_type": "code",
   "execution_count": 101,
   "metadata": {},
   "outputs": [],
   "source": [
    "def expectedreturns(prices, days = 252):\n",
    "    if not isinstance(prices, (pd.Series, pd.DataFrame)):\n",
    "        raise TypeError(\"Format prices as a pd.Series\")\n",
    "    returns = prices.pct_change(fill_method=None).dropna()\n",
    "    exp_ret = returns.mean() * days\n",
    "    return exp_ret"
   ]
  },
  {
   "cell_type": "code",
   "execution_count": 102,
   "metadata": {},
   "outputs": [],
   "source": [
    "def covariancematrix(prices, days = 252):\n",
    "    if not isinstance(prices, (pd.Series, pd.DataFrame)):\n",
    "        raise TypeError(\"Formate prices as pd.Series\")\n",
    "    returns = prices.pct_change(fill_method=None).dropna()\n",
    "    covariance = returns.cov() * days\n",
    "\n",
    "    return covariance"
   ]
  },
  {
   "cell_type": "code",
   "execution_count": 103,
   "metadata": {},
   "outputs": [],
   "source": [
    "cov_matrix = covariancematrix(prices)\n",
    "exp_ret = expectedreturns(prices)"
   ]
  },
  {
   "cell_type": "code",
   "execution_count": 104,
   "metadata": {},
   "outputs": [],
   "source": [
    "def minimumvariance(prices, target_return):\n",
    "    if not isinstance(prices, (pd.Series, pd.DataFrame)):\n",
    "        raise TypeError(\"Prices should be a pd.Series\")\n",
    "    \n",
    "    bounds = Bounds(0,1)\n",
    "    linear_constraint = LinearConstraint(np.ones(len(tickers)), 1, 1)\n",
    "\n",
    "    w0 = np.ones(len(tickers)) / len(tickers)\n",
    "    \n",
    "    exp_ret = expectedreturns(prices)\n",
    "    \n",
    "    cov_matrix = covariancematrix(prices)\n",
    "\n",
    "    target_constraint = {'type': 'eq', 'fun': lambda w: exp_ret.T @ w - target_return}\n",
    "    \n",
    "    variance = lambda w: w.T @ cov_matrix @ w\n",
    "\n",
    "    res1 = minimize(variance, w0, args = (), method = 'SLSQP', bounds=bounds, constraints=[linear_constraint, target_constraint])\n",
    "    \n",
    "    return res1"
   ]
  },
  {
   "cell_type": "code",
   "execution_count": 105,
   "metadata": {},
   "outputs": [],
   "source": [
    "def efficientfrontier(prices, data_points = 250):\n",
    "    if not isinstance(prices, (pd.Series, pd.DataFrame)):\n",
    "        raise TypeError(\"Prices should be a pd.Series\")\n",
    "    \n",
    "    exp_ret = expectedreturns(prices)\n",
    "    cov_matrix = covariancematrix(prices)\n",
    "    \n",
    "    bounds = Bounds(0,1)\n",
    "    linear_constraint = LinearConstraint(np.ones(len(tickers)), 1, 1)\n",
    "\n",
    "    w0 = np.ones(len(tickers)) / len(tickers)\n",
    "\n",
    "    ret = lambda w: -exp_ret.T @ w # negative so we can find maximum\n",
    "    max_ret_port = minimize(ret, w0, args=(), method = 'SLSQP', constraints=linear_constraint, bounds=bounds) \n",
    "\n",
    "    var = lambda w : w.T @ cov_matrix @ w\n",
    "    min_var_port = minimize(var, w0, args = (), method = \"SLSQP\", constraints=linear_constraint, bounds=bounds)\n",
    "\n",
    "    min_return = exp_ret.T @ min_var_port.x\n",
    "    max_return = exp_ret.T @ max_ret_port.x \n",
    "\n",
    "    trs = np.linspace(min_return, max_return, data_points, True)\n",
    "\n",
    "    data = np.zeros((2, data_points))\n",
    "    weight_list = []\n",
    "\n",
    "    for tr in trs:\n",
    "        indx = np.where( trs == tr)\n",
    "        result = minimumvariance(prices, tr)\n",
    "        if result.success:\n",
    "            risk = np.sqrt(result.fun)\n",
    "            weights = result.x\n",
    "            weight_list.append(weights)\n",
    "            returns = np.dot(exp_ret.T, weights)\n",
    "            data[0, indx] = risk\n",
    "            data[1, indx] = returns\n",
    "    \n",
    "    return data, weight_list\n"
   ]
  },
  {
   "cell_type": "code",
   "execution_count": 106,
   "metadata": {},
   "outputs": [],
   "source": [
    "def max_sharpe(prices, data_points = 250):\n",
    "    if not isinstance(prices, (pd.Series, pd.DataFrame)):\n",
    "        raise TypeError(\"Format prices as a pd.Series\")\n",
    "    \n",
    "    ef = efficientfrontier(prices, data_points)\n",
    "\n",
    "    ef_data, weights = ef\n",
    "\n",
    "    sharpe = ef_data[0] / ef_data[1]\n",
    "\n",
    "    maxsh_idx = np.argmax(sharpe)\n",
    "    maxsh = sharpe[maxsh_idx]\n",
    "\n",
    "    return maxsh, weights[maxsh_idx]"
   ]
  },
  {
   "cell_type": "code",
   "execution_count": 107,
   "metadata": {},
   "outputs": [
    {
     "data": {
      "text/plain": [
       "array([0.00000000e+00, 7.86602768e-02, 5.83854829e-02, 4.33030297e-02,\n",
       "       5.02808055e-03, 3.68987233e-19, 0.00000000e+00, 5.93953870e-01,\n",
       "       5.68303816e-02, 1.63838878e-01])"
      ]
     },
     "execution_count": 107,
     "metadata": {},
     "output_type": "execute_result"
    }
   ],
   "source": [
    "a,b = max_sharpe(prices)\n",
    "b"
   ]
  },
  {
   "cell_type": "code",
   "execution_count": null,
   "metadata": {},
   "outputs": [],
   "source": []
  }
 ],
 "metadata": {
  "kernelspec": {
   "display_name": ".venv",
   "language": "python",
   "name": "python3"
  },
  "language_info": {
   "codemirror_mode": {
    "name": "ipython",
    "version": 3
   },
   "file_extension": ".py",
   "mimetype": "text/x-python",
   "name": "python",
   "nbconvert_exporter": "python",
   "pygments_lexer": "ipython3",
   "version": "3.13.2"
  }
 },
 "nbformat": 4,
 "nbformat_minor": 2
}
