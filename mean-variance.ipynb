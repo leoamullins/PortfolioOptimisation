{
 "cells": [
  {
   "cell_type": "code",
   "execution_count": 300,
   "metadata": {},
   "outputs": [],
   "source": [
    "import pandas as pd\n",
    "import numpy as np\n",
    "from scipy.optimize import minimize, LinearConstraint, Bounds\n",
    "import yfinance as yf\n",
    "import matplotlib.pyplot as plt"
   ]
  },
  {
   "cell_type": "code",
   "execution_count": 301,
   "metadata": {},
   "outputs": [
    {
     "name": "stderr",
     "output_type": "stream",
     "text": [
      "[*********************100%***********************]  10 of 10 completed\n"
     ]
    },
    {
     "data": {
      "text/html": [
       "<div>\n",
       "<style scoped>\n",
       "    .dataframe tbody tr th:only-of-type {\n",
       "        vertical-align: middle;\n",
       "    }\n",
       "\n",
       "    .dataframe tbody tr th {\n",
       "        vertical-align: top;\n",
       "    }\n",
       "\n",
       "    .dataframe thead th {\n",
       "        text-align: right;\n",
       "    }\n",
       "</style>\n",
       "<table border=\"1\" class=\"dataframe\">\n",
       "  <thead>\n",
       "    <tr style=\"text-align: right;\">\n",
       "      <th>Ticker</th>\n",
       "      <th>AAPL</th>\n",
       "      <th>AMZN</th>\n",
       "      <th>GOOGL</th>\n",
       "      <th>JPM</th>\n",
       "      <th>META</th>\n",
       "      <th>MSFT</th>\n",
       "      <th>NVDA</th>\n",
       "      <th>PG</th>\n",
       "      <th>V</th>\n",
       "      <th>XOM</th>\n",
       "    </tr>\n",
       "    <tr>\n",
       "      <th>Date</th>\n",
       "      <th></th>\n",
       "      <th></th>\n",
       "      <th></th>\n",
       "      <th></th>\n",
       "      <th></th>\n",
       "      <th></th>\n",
       "      <th></th>\n",
       "      <th></th>\n",
       "      <th></th>\n",
       "      <th></th>\n",
       "    </tr>\n",
       "  </thead>\n",
       "  <tbody>\n",
       "    <tr>\n",
       "      <th>2015-01-02</th>\n",
       "      <td>24.261047</td>\n",
       "      <td>15.4260</td>\n",
       "      <td>26.319654</td>\n",
       "      <td>46.948082</td>\n",
       "      <td>78.021965</td>\n",
       "      <td>39.998703</td>\n",
       "      <td>0.483066</td>\n",
       "      <td>66.983513</td>\n",
       "      <td>61.462494</td>\n",
       "      <td>58.967133</td>\n",
       "    </tr>\n",
       "    <tr>\n",
       "      <th>2015-01-05</th>\n",
       "      <td>23.577574</td>\n",
       "      <td>15.1095</td>\n",
       "      <td>25.818159</td>\n",
       "      <td>45.490578</td>\n",
       "      <td>76.768845</td>\n",
       "      <td>39.630875</td>\n",
       "      <td>0.474907</td>\n",
       "      <td>66.665016</td>\n",
       "      <td>60.105789</td>\n",
       "      <td>57.353687</td>\n",
       "    </tr>\n",
       "    <tr>\n",
       "      <th>2015-01-06</th>\n",
       "      <td>23.579796</td>\n",
       "      <td>14.7645</td>\n",
       "      <td>25.180981</td>\n",
       "      <td>44.311054</td>\n",
       "      <td>75.734520</td>\n",
       "      <td>39.049210</td>\n",
       "      <td>0.460508</td>\n",
       "      <td>66.361351</td>\n",
       "      <td>59.718464</td>\n",
       "      <td>57.048786</td>\n",
       "    </tr>\n",
       "    <tr>\n",
       "      <th>2015-01-07</th>\n",
       "      <td>23.910435</td>\n",
       "      <td>14.9210</td>\n",
       "      <td>25.106926</td>\n",
       "      <td>44.378674</td>\n",
       "      <td>75.734520</td>\n",
       "      <td>39.545330</td>\n",
       "      <td>0.459308</td>\n",
       "      <td>66.709488</td>\n",
       "      <td>60.518585</td>\n",
       "      <td>57.626831</td>\n",
       "    </tr>\n",
       "    <tr>\n",
       "      <th>2015-01-08</th>\n",
       "      <td>24.829124</td>\n",
       "      <td>15.0230</td>\n",
       "      <td>25.194401</td>\n",
       "      <td>45.370377</td>\n",
       "      <td>77.753433</td>\n",
       "      <td>40.708694</td>\n",
       "      <td>0.476586</td>\n",
       "      <td>67.472321</td>\n",
       "      <td>61.330292</td>\n",
       "      <td>58.586010</td>\n",
       "    </tr>\n",
       "  </tbody>\n",
       "</table>\n",
       "</div>"
      ],
      "text/plain": [
       "Ticker           AAPL     AMZN      GOOGL        JPM       META       MSFT  \\\n",
       "Date                                                                         \n",
       "2015-01-02  24.261047  15.4260  26.319654  46.948082  78.021965  39.998703   \n",
       "2015-01-05  23.577574  15.1095  25.818159  45.490578  76.768845  39.630875   \n",
       "2015-01-06  23.579796  14.7645  25.180981  44.311054  75.734520  39.049210   \n",
       "2015-01-07  23.910435  14.9210  25.106926  44.378674  75.734520  39.545330   \n",
       "2015-01-08  24.829124  15.0230  25.194401  45.370377  77.753433  40.708694   \n",
       "\n",
       "Ticker          NVDA         PG          V        XOM  \n",
       "Date                                                   \n",
       "2015-01-02  0.483066  66.983513  61.462494  58.967133  \n",
       "2015-01-05  0.474907  66.665016  60.105789  57.353687  \n",
       "2015-01-06  0.460508  66.361351  59.718464  57.048786  \n",
       "2015-01-07  0.459308  66.709488  60.518585  57.626831  \n",
       "2015-01-08  0.476586  67.472321  61.330292  58.586010  "
      ]
     },
     "execution_count": 301,
     "metadata": {},
     "output_type": "execute_result"
    }
   ],
   "source": [
    "tickers = [\"AAPL\", \"MSFT\", \"GOOGL\", \"AMZN\", \"META\", \"NVDA\", \"JPM\", \"XOM\", \"PG\", \"V\"]\n",
    "\n",
    "prices = yf.download(tickers, start = '2015-01-01', auto_adjust=False)['Adj Close']\n",
    "prices.head()\n"
   ]
  },
  {
   "cell_type": "code",
   "execution_count": 302,
   "metadata": {},
   "outputs": [],
   "source": [
    "def weights_clean(weights, rounddp = 6):\n",
    "    weightsclean = np.where(np.abs(weights) < 1e-6, 0, weights)\n",
    "\n",
    "    weightsclean = pd.Series(weights, tickers)\n",
    "    weightsclean = weightsclean.round(rounddp)\n",
    "    return weightsclean\n",
    "\n",
    "\n"
   ]
  },
  {
   "cell_type": "code",
   "execution_count": 303,
   "metadata": {},
   "outputs": [],
   "source": [
    "def expectedreturns(prices, days = 252):\n",
    "    if not isinstance(prices, (pd.Series, pd.DataFrame)):\n",
    "        raise TypeError(\"Format prices as a pd.Series\")\n",
    "    returns = prices.pct_change(fill_method=None).dropna(how=\"all\")\n",
    "    exp_ret = returns.mean() * days\n",
    "    return exp_ret"
   ]
  },
  {
   "cell_type": "code",
   "execution_count": 304,
   "metadata": {},
   "outputs": [],
   "source": [
    "def covariancematrix(prices, days = 252):\n",
    "    if not isinstance(prices, (pd.Series, pd.DataFrame)):\n",
    "        raise TypeError(\"Formate prices as pd.Series\")\n",
    "    returns = prices.pct_change(fill_method=None).dropna(how='all')\n",
    "    covariance = returns.cov() * days\n",
    "\n",
    "    return covariance"
   ]
  },
  {
   "cell_type": "code",
   "execution_count": 305,
   "metadata": {},
   "outputs": [],
   "source": [
    "def minimumvariance(prices, target_return):\n",
    "    if not isinstance(prices, (pd.Series, pd.DataFrame)):\n",
    "        raise TypeError(\"Prices should be a pd.Series\")\n",
    "    \n",
    "    bounds = Bounds(0,1)\n",
    "    linear_constraint = LinearConstraint(np.ones(len(tickers)), 1, 1)\n",
    "\n",
    "    w0 = np.ones(len(tickers)) / len(tickers)\n",
    "    \n",
    "    exp_ret = expectedreturns(prices)\n",
    "    \n",
    "    cov_matrix = covariancematrix(prices)\n",
    "\n",
    "    target_constraint = {'type': 'eq', 'fun': lambda w: exp_ret.T @ w - target_return}\n",
    "    \n",
    "    variance = lambda w: w.T @ cov_matrix @ w\n",
    "\n",
    "    res1 = minimize(variance, w0, args = (), method = 'SLSQP', bounds=bounds, constraints=[linear_constraint, target_constraint])\n",
    "    \n",
    "    return res1"
   ]
  },
  {
   "cell_type": "code",
   "execution_count": 306,
   "metadata": {},
   "outputs": [],
   "source": [
    "def efficientfrontier(prices, data_points = 250):\n",
    "    if not isinstance(prices, (pd.Series, pd.DataFrame)):\n",
    "        raise TypeError(\"Prices should be a pd.Series\")\n",
    "    \n",
    "    exp_ret = expectedreturns(prices)\n",
    "    cov_matrix = covariancematrix(prices)\n",
    "    \n",
    "    bounds = Bounds(0,1)\n",
    "    linear_constraint = LinearConstraint(np.ones(len(tickers)), 1, 1)\n",
    "\n",
    "    w0 = np.ones(len(tickers)) / len(tickers)\n",
    "\n",
    "    ret = lambda w: -exp_ret.T @ w # negative so we can find maximum\n",
    "    max_ret_port = minimize(ret, w0, args=(), method = 'SLSQP', constraints=linear_constraint, bounds=bounds) \n",
    "\n",
    "    var = lambda w : w.T @ cov_matrix @ w\n",
    "    min_var_port = minimize(var, w0, args = (), method = \"SLSQP\", constraints=linear_constraint, bounds=bounds)\n",
    "\n",
    "    min_return = exp_ret.T @ min_var_port.x\n",
    "    max_return = exp_ret.T @ max_ret_port.x \n",
    "\n",
    "    trs = np.linspace(min_return, max_return, data_points, True)\n",
    "\n",
    "    data = np.zeros((2, data_points))\n",
    "    weight_list = []\n",
    "\n",
    "    for tr in trs:\n",
    "        indx = np.where( trs == tr)\n",
    "        result = minimumvariance(prices, tr)\n",
    "        if result.success:\n",
    "            risk = np.sqrt(result.fun)\n",
    "            weights = result.x\n",
    "            weight_list.append(weights)\n",
    "            returns = np.dot(exp_ret.T, weights)\n",
    "            data[0, indx] = risk\n",
    "            data[1, indx] = returns\n",
    "    \n",
    "    return data, weight_list\n"
   ]
  },
  {
   "cell_type": "code",
   "execution_count": 307,
   "metadata": {},
   "outputs": [],
   "source": [
    "def max_sharpe(prices, r_f = 0, data_points = 250):\n",
    "    if not isinstance(prices, (pd.Series, pd.DataFrame)):\n",
    "        raise TypeError(\"Format prices as a pd.Series\")\n",
    "    \n",
    "    ef = efficientfrontier(prices, data_points)\n",
    "\n",
    "    ef_data, weights = ef\n",
    "\n",
    "    sharpe = (ef_data[1, : ] - r_f) / ef_data[0, : ]\n",
    "\n",
    "    maxsh_idx = np.argmax(sharpe)\n",
    "    maxsh = sharpe[maxsh_idx]\n",
    "\n",
    "    return maxsh, weights[maxsh_idx]"
   ]
  },
  {
   "cell_type": "code",
   "execution_count": 311,
   "metadata": {},
   "outputs": [],
   "source": [
    "def plotting(prices, maxsharpe = False):\n",
    "\n",
    "    ef = efficientfrontier(prices)\n",
    "    exp_ret = expectedreturns(prices)\n",
    "    cov_matrix = covariancematrix(prices)\n",
    "    ms = max_sharpe(prices)\n",
    "\n",
    "    if maxsharpe:\n",
    "        value, weights = ms\n",
    "        returns = exp_ret.T @ weights\n",
    "        risk = np.sqrt(weights.T @ cov_matrix @ weights)\n",
    "        plt.scatter(risk, returns, marker ='d', c='r', s = 100, label=f\"Max Sharpe: {value:.2f}\")\n",
    "\n",
    "    ef_points, _ = ef\n",
    "    x, y = ef_points\n",
    "    plt.plot(x,y, label = 'Efficient Frontier')\n",
    "    plt.title(\"Efficient Frontier\")\n",
    "    plt.xlabel(\"Risk\")\n",
    "    plt.ylabel(\"Expected Return\")\n",
    "    plt.legend()\n",
    "    plt.show()"
   ]
  },
  {
   "cell_type": "code",
   "execution_count": 312,
   "metadata": {},
   "outputs": [
    {
     "data": {
      "image/png": "[encoded data removed]",
      "text/plain": [
       "<Figure size 640x480 with 1 Axes>"
      ]
     },
     "metadata": {},
     "output_type": "display_data"
    }
   ],
   "source": [
    "plotting(prices,True)"
   ]
  },
  {
   "cell_type": "code",
   "execution_count": 310,
   "metadata": {},
   "outputs": [
    {
     "name": "stdout",
     "output_type": "stream",
     "text": [
      "The maximum Sharpe value is: 1.44235\n",
      "The optimal portfolio is \n",
      " AAPL     0.000000\n",
      "MSFT     0.124826\n",
      "GOOGL    0.000000\n",
      "AMZN     0.173165\n",
      "META     0.000000\n",
      "NVDA     0.018704\n",
      "JPM      0.474313\n",
      "XOM      0.208992\n",
      "PG       0.000000\n",
      "V        0.000000\n",
      "dtype: float64\n"
     ]
    }
   ],
   "source": [
    "value, weights = max_sharpe(prices)\n",
    "\n",
    "print(f\"The maximum Sharpe value is: {value:.5f}\")\n",
    "print(f\"The optimal portfolio is \\n {weights_clean(weights)}\")\n"
   ]
  }
 ],
 "metadata": {
  "kernelspec": {
   "display_name": ".venv",
   "language": "python",
   "name": "python3"
  },
  "language_info": {
   "codemirror_mode": {
    "name": "ipython",
    "version": 3
   },
   "file_extension": ".py",
   "mimetype": "text/x-python",
   "name": "python",
   "nbconvert_exporter": "python",
   "pygments_lexer": "ipython3",
   "version": "3.13.2"
  }
 },
 "nbformat": 4,
 "nbformat_minor": 2
}
